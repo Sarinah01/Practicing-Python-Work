{
 "cells": [
  {
   "cell_type": "code",
   "execution_count": 1,
   "metadata": {},
   "outputs": [
    {
     "name": "stdout",
     "output_type": "stream",
     "text": [
      "<class 'str'>\n",
      "2464683437040\n"
     ]
    }
   ],
   "source": [
    "s = \"sarinah\"\n",
    "print(type(s))\n",
    "print(id(s))"
   ]
  },
  {
   "cell_type": "code",
   "execution_count": 2,
   "metadata": {},
   "outputs": [
    {
     "name": "stdout",
     "output_type": "stream",
     "text": [
      "s\n"
     ]
    }
   ],
   "source": [
    "print(s[0])"
   ]
  },
  {
   "cell_type": "code",
   "execution_count": 3,
   "metadata": {},
   "outputs": [
    {
     "name": "stdout",
     "output_type": "stream",
     "text": [
      "2464610640880\n",
      "2464615907056\n"
     ]
    }
   ],
   "source": [
    "print(id(s[0]))\n",
    "print(id(s[1]))"
   ]
  },
  {
   "cell_type": "code",
   "execution_count": 4,
   "metadata": {},
   "outputs": [
    {
     "name": "stdout",
     "output_type": "stream",
     "text": [
      "n\n",
      "h\n"
     ]
    }
   ],
   "source": [
    "print(s[-3])\n",
    "print(s[-1])"
   ]
  },
  {
   "cell_type": "code",
   "execution_count": 5,
   "metadata": {},
   "outputs": [
    {
     "name": "stdout",
     "output_type": "stream",
     "text": [
      "sarinah\n",
      "s\n",
      "sarinah\n",
      "sarinah\n"
     ]
    }
   ],
   "source": [
    "print(s[0:8:1])\n",
    "print(s[0:1])\n",
    "print(s[0::1])\n",
    "print(s[::])"
   ]
  },
  {
   "cell_type": "code",
   "execution_count": 6,
   "metadata": {},
   "outputs": [
    {
     "name": "stdout",
     "output_type": "stream",
     "text": [
      "vha-10\n",
      "2464683547696\n",
      "vhahii10\n",
      "2464683583024\n"
     ]
    },
    {
     "ename": "IndexError",
     "evalue": "string index out of range",
     "output_type": "error",
     "traceback": [
      "\u001b[1;31m---------------------------------------------------------------------------\u001b[0m",
      "\u001b[1;31mIndexError\u001b[0m                                Traceback (most recent call last)",
      "\u001b[1;32m<ipython-input-6-8359c9e51702>\u001b[0m in \u001b[0;36m<module>\u001b[1;34m\u001b[0m\n\u001b[0;32m      8\u001b[0m \u001b[1;31m# print(id(s)) -- name error\u001b[0m\u001b[1;33m\u001b[0m\u001b[1;33m\u001b[0m\u001b[1;33m\u001b[0m\u001b[0m\n\u001b[0;32m      9\u001b[0m \u001b[0ms\u001b[0m\u001b[1;33m=\u001b[0m\u001b[1;34m\"hii\"\u001b[0m\u001b[1;33m\u001b[0m\u001b[1;33m\u001b[0m\u001b[0m\n\u001b[1;32m---> 10\u001b[1;33m \u001b[0mprint\u001b[0m\u001b[1;33m(\u001b[0m\u001b[0ms\u001b[0m\u001b[1;33m[\u001b[0m\u001b[1;36m8\u001b[0m\u001b[1;33m]\u001b[0m\u001b[1;33m)\u001b[0m\u001b[1;33m\u001b[0m\u001b[1;33m\u001b[0m\u001b[0m\n\u001b[0m\u001b[0;32m     11\u001b[0m \u001b[1;31m# print(s[8:]) does not prints anything\u001b[0m\u001b[1;33m\u001b[0m\u001b[1;33m\u001b[0m\u001b[1;33m\u001b[0m\u001b[0m\n",
      "\u001b[1;31mIndexError\u001b[0m: string index out of range"
     ]
    }
   ],
   "source": [
    "s= \"vha-10\"\n",
    "print(s)\n",
    "print(id(s))\n",
    "s = s[0:3]+\"hii\"+s[4:]\n",
    "print(s)\n",
    "print(id(s))\n",
    "del(s)\n",
    "# print(id(s)) -- name error\n",
    "s=\"hii\"\n",
    "print(s[8])\n",
    "# print(s[8:]) does not prints anything"
   ]
  },
  {
   "cell_type": "code",
   "execution_count": null,
   "metadata": {},
   "outputs": [],
   "source": [
    "s=\"world\"\n",
    "print(s*4)"
   ]
  },
  {
   "cell_type": "code",
   "execution_count": 11,
   "metadata": {},
   "outputs": [
    {
     "name": "stdout",
     "output_type": "stream",
     "text": [
      "hii1234567890\n",
      "\n"
     ]
    }
   ],
   "source": [
    "b=\"1234567890\"\n",
    "s=\"hii\"\n",
    "b=s+b\n",
    "print(b)\n",
    "print(b[-3:1:1])"
   ]
  },
  {
   "cell_type": "code",
   "execution_count": 21,
   "metadata": {},
   "outputs": [
    {
     "name": "stdout",
     "output_type": "stream",
     "text": [
      "welcome\n",
      "hlo\n",
      "0  <  w\n",
      "1  <  e\n",
      "2  <  l\n",
      "3  <  c\n",
      "4  <  o\n",
      "5  <  m\n",
      "6  <  e\n",
      "0  >  w\n",
      "1  >  e\n",
      "2  >  l\n",
      "3  >  c\n",
      "4  >  o\n",
      "5  >  m\n",
      "6  >  e\n",
      "<enumerate object at 0x0000023DDAA0DA40>\n"
     ]
    }
   ],
   "source": [
    "s=\"welcome\"\n",
    "for i in s:\n",
    "    print(i,end=\"\")\n",
    "print()\n",
    "for i in \"hello\"[::2]:\n",
    "    print(i, end=\"\")\n",
    "print()\n",
    "for i in range(0,len(s)):\n",
    "    print(i, \" < \", s[i])\n",
    "for index, char in enumerate(s):\n",
    "    print(index , \" > \", char)\n",
    "print(enumerate(s))"
   ]
  },
  {
   "cell_type": "code",
   "execution_count": 24,
   "metadata": {},
   "outputs": [
    {
     "name": "stdout",
     "output_type": "stream",
     "text": [
      "enetr sting1hii\n",
      "enter string2h\n",
      "Not balanced!\n"
     ]
    }
   ],
   "source": [
    "s1 = input(\"enetr sting1\")\n",
    "s2 = input(\"enter string2\")\n",
    "count=0\n",
    "count1 =0 \n",
    "for index , char in enumerate(s1):\n",
    "    for index2 , char2 in enumerate(s2):\n",
    "        if char == char2:\n",
    "            count +=1\n",
    "        else:\n",
    "            continue\n",
    "for index , char in enumerate(s2):\n",
    "    for index2 , char2 in enumerate(s1):\n",
    "        if char == char2:\n",
    "            count1 +=1\n",
    "        else:\n",
    "            continue\n",
    "if count1 == count and len(s1) == len(s2):\n",
    "    print(\"It is balanced!\")\n",
    "else:\n",
    "    print(\"Not balanced!\")"
   ]
  },
  {
   "cell_type": "code",
   "execution_count": 1,
   "metadata": {},
   "outputs": [
    {
     "name": "stdout",
     "output_type": "stream",
     "text": [
      "Enter ur string34444448279128918932\n",
      "34444\n",
      "ENter y for more: y\n",
      "44482\n",
      "ENter y for more: y\n",
      "79128\n",
      "ENter y for more: y\n",
      "91893\n",
      "ENter y for more: y\n",
      "2\n",
      "ENter y for more: y\n",
      "String is empty\n",
      "ENter y for more: y\n",
      "String is empty\n",
      "ENter y for more: y\n",
      "String is empty\n",
      "ENter y for more: n\n"
     ]
    }
   ],
   "source": [
    "n = (input(\"Enter ur string\"))\n",
    "print(n[:5:])\n",
    "i = 4\n",
    "for chr in enumerate(n):\n",
    "    n1 = input(\"ENter y for more: \")\n",
    "    if n1==\"y\":\n",
    "        if((n[(i):i+5:1]) == \"\"):\n",
    "            print(\"String is empty\")\n",
    "        else:\n",
    "            print(n[(i):i+5:1])\n",
    "        i = i+5\n",
    "    else:\n",
    "        break\n",
    "    "
   ]
  },
  {
   "cell_type": "code",
   "execution_count": 2,
   "metadata": {},
   "outputs": [
    {
     "data": {
      "text/plain": [
       "['Formatter',\n",
       " 'Template',\n",
       " '_ChainMap',\n",
       " '_TemplateMetaclass',\n",
       " '__all__',\n",
       " '__builtins__',\n",
       " '__cached__',\n",
       " '__doc__',\n",
       " '__file__',\n",
       " '__loader__',\n",
       " '__name__',\n",
       " '__package__',\n",
       " '__spec__',\n",
       " '_re',\n",
       " '_sentinel_dict',\n",
       " '_string',\n",
       " 'ascii_letters',\n",
       " 'ascii_lowercase',\n",
       " 'ascii_uppercase',\n",
       " 'capwords',\n",
       " 'digits',\n",
       " 'hexdigits',\n",
       " 'octdigits',\n",
       " 'printable',\n",
       " 'punctuation',\n",
       " 'whitespace']"
      ]
     },
     "execution_count": 2,
     "metadata": {},
     "output_type": "execute_result"
    }
   ],
   "source": [
    "import string\n",
    "dir(string)"
   ]
  },
  {
   "cell_type": "code",
   "execution_count": 3,
   "metadata": {},
   "outputs": [
    {
     "data": {
      "text/plain": [
       "['__add__',\n",
       " '__class__',\n",
       " '__contains__',\n",
       " '__delattr__',\n",
       " '__dir__',\n",
       " '__doc__',\n",
       " '__eq__',\n",
       " '__format__',\n",
       " '__ge__',\n",
       " '__getattribute__',\n",
       " '__getitem__',\n",
       " '__getnewargs__',\n",
       " '__gt__',\n",
       " '__hash__',\n",
       " '__init__',\n",
       " '__init_subclass__',\n",
       " '__iter__',\n",
       " '__le__',\n",
       " '__len__',\n",
       " '__lt__',\n",
       " '__mod__',\n",
       " '__mul__',\n",
       " '__ne__',\n",
       " '__new__',\n",
       " '__reduce__',\n",
       " '__reduce_ex__',\n",
       " '__repr__',\n",
       " '__rmod__',\n",
       " '__rmul__',\n",
       " '__setattr__',\n",
       " '__sizeof__',\n",
       " '__str__',\n",
       " '__subclasshook__',\n",
       " 'capitalize',\n",
       " 'casefold',\n",
       " 'center',\n",
       " 'count',\n",
       " 'encode',\n",
       " 'endswith',\n",
       " 'expandtabs',\n",
       " 'find',\n",
       " 'format',\n",
       " 'format_map',\n",
       " 'index',\n",
       " 'isalnum',\n",
       " 'isalpha',\n",
       " 'isascii',\n",
       " 'isdecimal',\n",
       " 'isdigit',\n",
       " 'isidentifier',\n",
       " 'islower',\n",
       " 'isnumeric',\n",
       " 'isprintable',\n",
       " 'isspace',\n",
       " 'istitle',\n",
       " 'isupper',\n",
       " 'join',\n",
       " 'ljust',\n",
       " 'lower',\n",
       " 'lstrip',\n",
       " 'maketrans',\n",
       " 'partition',\n",
       " 'replace',\n",
       " 'rfind',\n",
       " 'rindex',\n",
       " 'rjust',\n",
       " 'rpartition',\n",
       " 'rsplit',\n",
       " 'rstrip',\n",
       " 'split',\n",
       " 'splitlines',\n",
       " 'startswith',\n",
       " 'strip',\n",
       " 'swapcase',\n",
       " 'title',\n",
       " 'translate',\n",
       " 'upper',\n",
       " 'zfill']"
      ]
     },
     "execution_count": 3,
     "metadata": {},
     "output_type": "execute_result"
    }
   ],
   "source": [
    "s=\"helloooo\"\n",
    "dir(s)"
   ]
  },
  {
   "cell_type": "code",
   "execution_count": 5,
   "metadata": {},
   "outputs": [
    {
     "name": "stdout",
     "output_type": "stream",
     "text": [
      "Gdsflkad\n",
      "Gdsflkad\n",
      "gDSFLKAD\n",
      "gdsflkad\n",
      "GDSFLKAD\n"
     ]
    }
   ],
   "source": [
    "s=\"gdsflkad\"\n",
    "s= s.capitalize()\n",
    "print(s)\n",
    "print(s.title())\n",
    "print(s.swapcase())\n",
    "print(s.lower())\n",
    "print(s.upper())"
   ]
  },
  {
   "cell_type": "code",
   "execution_count": 8,
   "metadata": {},
   "outputs": [
    {
     "name": "stdout",
     "output_type": "stream",
     "text": [
      "Enter the string:hiii helloooo\n",
      "HiiI HelloooO\n"
     ]
    }
   ],
   "source": [
    "s1 = input(\"Enter the string:\")\n",
    "s1 = s1.title()[:-1]+s1[-1].upper()\n",
    "for i , chr in enumerate(s1):\n",
    "    if chr == \" \":\n",
    "        count = i-1\n",
    "        break\n",
    "s1 = s1[0:count] +s1[count].upper() + s1[count+1:]\n",
    "print(s1)"
   ]
  },
  {
   "cell_type": "code",
   "execution_count": 27,
   "metadata": {},
   "outputs": [
    {
     "name": "stdout",
     "output_type": "stream",
     "text": [
      "3\n",
      "4\n",
      "3\n",
      "0\n",
      "0\n",
      "6\n",
      "-1\n",
      "0\n",
      "6\n",
      "True\n",
      "False\n",
      "False\n"
     ]
    },
    {
     "data": {
      "text/plain": [
       "True"
      ]
     },
     "execution_count": 27,
     "metadata": {},
     "output_type": "execute_result"
    }
   ],
   "source": [
    "s=\"a m s a m s a  m s a\"\n",
    "print(s.count(\"a\",1,len(s)))\n",
    "print(s.count(\"a\"))\n",
    "print(s.count(\"m\"))\n",
    "print(s.count('2'))\n",
    "# print(s.count())\n",
    "\n",
    "print(s.find('a'))\n",
    "print(s.find('a',1,len(s)))\n",
    "print(s.find('z'))\n",
    "\n",
    "\n",
    "print(s.index('a'))\n",
    "print(s.index('a',1,len(s)))\n",
    "# print(s.index('z'))\n",
    "\n",
    "print(s.startswith('a'))\n",
    "print(s.endswith('b'))\n",
    "\n",
    "s= 'vha1$$$$0  90'\n",
    "print(s.isalnum())\n",
    "s= \"VHA@32\"\n",
    "s.isupper()\n",
    "s=\"  \"\n",
    "s.isspace()\n",
    "s = \"12345\"\n",
    "s.isdigit()"
   ]
  },
  {
   "cell_type": "code",
   "execution_count": null,
   "metadata": {},
   "outputs": [],
   "source": []
  }
 ],
 "metadata": {
  "kernelspec": {
   "display_name": "Python 3",
   "language": "python",
   "name": "python3"
  },
  "language_info": {
   "codemirror_mode": {
    "name": "ipython",
    "version": 3
   },
   "file_extension": ".py",
   "mimetype": "text/x-python",
   "name": "python",
   "nbconvert_exporter": "python",
   "pygments_lexer": "ipython3",
   "version": "3.8.5"
  }
 },
 "nbformat": 4,
 "nbformat_minor": 4
}
