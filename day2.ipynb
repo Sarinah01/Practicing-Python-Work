{
 "cells": [
  {
   "cell_type": "code",
   "execution_count": 9,
   "metadata": {},
   "outputs": [
    {
     "name": "stdout",
     "output_type": "stream",
     "text": [
      "Enter the password!dssakjaJKHJHKJ\n",
      "Enter digit 2 atleast\n",
      "Enter the password!gjhdjshkj*&*(8934789\n",
      "Enter atleast 2 upper case\n",
      "Enter the password!hjksdhjkhfdsjk87248(**(&(GHH\n",
      "Password is Valid!\n"
     ]
    }
   ],
   "source": [
    "\n",
    "while True:\n",
    "    upper = 0; lower = 0; digit = 0; sp = 0;space=0;\n",
    "    n= input(\"Enter the password!\")\n",
    "       \n",
    "        \n",
    "    for i, chr in enumerate(n):\n",
    "            if chr.isupper():\n",
    "                upper +=1\n",
    "            if chr.islower():\n",
    "                lower +=1\n",
    "            if chr.isdigit():\n",
    "                digit+=1\n",
    "            if not chr.isalnum():\n",
    "                sp +=1\n",
    "            if chr.isspace():\n",
    "                space +=1\n",
    "                \n",
    "    if(len(n)<8):\n",
    "            print(\"Length should be greater than or equal to 8:\");\n",
    "            continue            \n",
    "    if upper<2:\n",
    "            print(\"Enter atleast 2 upper case\")\n",
    "            continue\n",
    "    if lower<2:\n",
    "                print(\"Enter atleast 2 lower case later\")\n",
    "                continue\n",
    "    if digit<2:\n",
    "                    print(\"Enter digit 2 atleast\")\n",
    "                    continue\n",
    "    if sp<2:\n",
    "                        print(\"Enter special chara -2\")\n",
    "                        continue\n",
    "    if space >2 :\n",
    "                            print(\"Enter space characters!\")\n",
    "                            continue\n",
    "    else:\n",
    "            print(\"Password is Valid!\")\n",
    "            break\n",
    "            \n",
    "            \n",
    "    "
   ]
  },
  {
   "cell_type": "code",
   "execution_count": null,
   "metadata": {},
   "outputs": [
    {
     "name": "stdout",
     "output_type": "stream",
     "text": [
      "Enter the Name:Vishal 10\n",
      "Enter Key!2\n",
      "Xkujcn 21\n"
     ]
    }
   ],
   "source": [
    "while True:\n",
    "    st = \"\"\n",
    "    n = input(\"Enter the Name:\")\n",
    "    n2 = int(input(\"Enter Key!\"))\n",
    "    for i , c in enumerate(n):\n",
    "        if c.isspace():\n",
    "            st = st + n[i]\n",
    "        elif c.isdigit():\n",
    "            st = st + str((int(c) + 1) % 10)\n",
    "        else:\n",
    "            n1 = ord(c)\n",
    "            if n2 == 1:\n",
    "                n1+=1\n",
    "            elif n2 == 2:\n",
    "                n1+=2\n",
    "            elif n2 == 3:\n",
    "                n1+=5\n",
    "            else:\n",
    "                break\n",
    "            if c.islower() and n1>122:\n",
    "                    n1 = n1-122+96\n",
    "                    st = st + chr(n1)\n",
    "            elif c.isupper() and n1>90:\n",
    "                    n1 = n1-90+65\n",
    "                    st = st + chr(n1)\n",
    "            \n",
    "            st = st + chr(n1)\n",
    "    print(st)\n",
    "    \n",
    "                \n",
    "    "
   ]
  },
  {
   "cell_type": "code",
   "execution_count": 3,
   "metadata": {},
   "outputs": [
    {
     "name": "stdout",
     "output_type": "stream",
     "text": [
      "Entering the name: fdsa asdhjaksh asdhja267\n",
      "['fdsa', 'asdhjaksh asdhja267']\n",
      "fdsA asdhjaksH asdhja267 \n"
     ]
    }
   ],
   "source": [
    "n = input(\"Entering the name: \")\n",
    "s= \"\"\n",
    "print(n.split(' ', 1))\n",
    "for i in n.split():\n",
    "    s = s+ i[:-1] +i[-1].upper()+ \" \"\n",
    "print(s)\n",
    "        \n",
    "        "
   ]
  },
  {
   "cell_type": "code",
   "execution_count": 10,
   "metadata": {},
   "outputs": [
    {
     "name": "stdout",
     "output_type": "stream",
     "text": [
      "{97: 100, 98: 101, 99: 102, 105: None}\n"
     ]
    }
   ],
   "source": [
    "my = \"\"\n",
    "table = my.maketrans('abc', 'def','i')\n",
    "print(table)"
   ]
  },
  {
   "cell_type": "code",
   "execution_count": 11,
   "metadata": {},
   "outputs": [
    {
     "name": "stdout",
     "output_type": "stream",
     "text": [
      " dvs edf\n"
     ]
    }
   ],
   "source": [
    "s= ' avis baic'\n",
    "print(s.translate(table))"
   ]
  },
  {
   "cell_type": "code",
   "execution_count": 12,
   "metadata": {},
   "outputs": [
    {
     "data": {
      "text/plain": [
       "'!\"#$%&\\'()*+,-./:;<=>?@[\\\\]^_`{|}~'"
      ]
     },
     "execution_count": 12,
     "metadata": {},
     "output_type": "execute_result"
    }
   ],
   "source": [
    "import string\n",
    "string.punctuation\n"
   ]
  },
  {
   "cell_type": "code",
   "execution_count": 20,
   "metadata": {},
   "outputs": [
    {
     "name": "stdout",
     "output_type": "stream",
     "text": [
      "Name: vcx cx^%\n",
      "vcx cx\n"
     ]
    }
   ],
   "source": [
    "import string\n",
    "\n",
    "n = input(\"Name: \")\n",
    "s = \"\"\n",
    "\n",
    "for ch in n:\n",
    "    if ch in string.punctuation:\n",
    "        continue\n",
    "    s = s + ch\n",
    "\n",
    "print(s)\n"
   ]
  },
  {
   "cell_type": "code",
   "execution_count": null,
   "metadata": {},
   "outputs": [],
   "source": []
  }
 ],
 "metadata": {
  "kernelspec": {
   "display_name": "Python 3",
   "language": "python",
   "name": "python3"
  },
  "language_info": {
   "codemirror_mode": {
    "name": "ipython",
    "version": 3
   },
   "file_extension": ".py",
   "mimetype": "text/x-python",
   "name": "python",
   "nbconvert_exporter": "python",
   "pygments_lexer": "ipython3",
   "version": "3.8.5"
  }
 },
 "nbformat": 4,
 "nbformat_minor": 4
}
